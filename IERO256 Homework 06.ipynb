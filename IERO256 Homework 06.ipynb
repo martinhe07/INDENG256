{
 "cells": [
  {
   "cell_type": "markdown",
   "id": "134637f9",
   "metadata": {},
   "source": [
    "### Problem 1: Linear Regression\n",
    "<br>\n",
    "For this problem, we use the Heart and Estrogen/progestin Replacement Study (HERS) dataset. HERS was\n",
    "a randomized, blinded, placebo-controlled secondary prevention trial of estrogen plus progestin for secondary\n",
    "prevention of coronary heart disease (CHD) in postmenopausal women."
   ]
  },
  {
   "cell_type": "markdown",
   "id": "c0b643e8",
   "metadata": {},
   "source": [
    "1. Perform Perform multiple linear regression using the lm function in R, to predict baseline glucose levels in the\n",
    "HERS clinical trial of hormoney therapy. Use exercise, age, drinkany, and BMI as the covariates, and\n",
    "glocose as the response. Remove the rows with diabetes == yes"
   ]
  },
  {
   "cell_type": "markdown",
   "id": "bf8ca0d1",
   "metadata": {},
   "source": [
    "First, import data and apply filter \"diabetes = no\"."
   ]
  },
  {
   "cell_type": "code",
   "execution_count": 1,
   "id": "4ef48693",
   "metadata": {},
   "outputs": [],
   "source": [
    "hers = read.csv(\"hersdata.csv\")\n",
    "hers = hers[hers$diabetes ==\"no\",]"
   ]
  },
  {
   "cell_type": "markdown",
   "id": "80f71f5d",
   "metadata": {},
   "source": [
    "Let's create a multiple linear regression:"
   ]
  },
  {
   "cell_type": "code",
   "execution_count": 2,
   "id": "912aa73b",
   "metadata": {},
   "outputs": [
    {
     "data": {
      "text/plain": [
       "\n",
       "Call:\n",
       "lm(formula = glucose ~ exercise + age + drinkany + BMI, data = hers)\n",
       "\n",
       "Residuals:\n",
       "    Min      1Q  Median      3Q     Max \n",
       "-47.582  -6.381  -0.901   5.508  32.015 \n",
       "\n",
       "Coefficients:\n",
       "             Estimate Std. Error t value Pr(>|t|)    \n",
       "(Intercept)  89.47279    7.11416  12.577   <2e-16 ***\n",
       "exerciseyes  -0.91077    0.42933  -2.121   0.0340 *  \n",
       "age           0.06093    0.03144   1.938   0.0528 .  \n",
       "drinkanyno  -10.34285    6.66006  -1.553   0.1206    \n",
       "drinkanyyes  -9.66632    6.66150  -1.451   0.1469    \n",
       "BMI           0.48899    0.04163  11.746   <2e-16 ***\n",
       "---\n",
       "Signif. codes:  0 '***' 0.001 '**' 0.01 '*' 0.05 '.' 0.1 ' ' 1\n",
       "\n",
       "Residual standard error: 9.406 on 2024 degrees of freedom\n",
       "  (2 observations deleted due to missingness)\n",
       "Multiple R-squared:  0.07188,\tAdjusted R-squared:  0.06959 \n",
       "F-statistic: 31.35 on 5 and 2024 DF,  p-value: < 2.2e-16\n"
      ]
     },
     "metadata": {},
     "output_type": "display_data"
    }
   ],
   "source": [
    "fit.linreg <- lm(glucose ~ exercise + age + drinkany + BMI, data = hers)\n",
    "summary(fit.linreg)"
   ]
  },
  {
   "cell_type": "code",
   "execution_count": null,
   "id": "1cec2d65",
   "metadata": {},
   "outputs": [],
   "source": []
  }
 ],
 "metadata": {
  "kernelspec": {
   "display_name": "R",
   "language": "R",
   "name": "ir"
  },
  "language_info": {
   "codemirror_mode": "r",
   "file_extension": ".r",
   "mimetype": "text/x-r-source",
   "name": "R",
   "pygments_lexer": "r",
   "version": "3.6.1"
  }
 },
 "nbformat": 4,
 "nbformat_minor": 5
}
