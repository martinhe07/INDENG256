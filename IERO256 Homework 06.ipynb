{
 "cells": [
  {
   "cell_type": "markdown",
   "id": "ad61fdf8",
   "metadata": {},
   "source": [
    "Assignee: Martin He"
   ]
  },
  {
   "cell_type": "markdown",
   "id": "134637f9",
   "metadata": {},
   "source": [
    "### Problem 1: Linear Regression\n",
    "<br>\n",
    "For this problem, we use the Heart and Estrogen/progestin Replacement Study (HERS) dataset. HERS was\n",
    "a randomized, blinded, placebo-controlled secondary prevention trial of estrogen plus progestin for secondary\n",
    "prevention of coronary heart disease (CHD) in postmenopausal women."
   ]
  },
  {
   "cell_type": "markdown",
   "id": "c0b643e8",
   "metadata": {},
   "source": [
    "1. Perform Perform multiple linear regression using the lm function in R, to predict baseline glucose levels in the\n",
    "HERS clinical trial of hormoney therapy. Use exercise, age, drinkany, and BMI as the covariates, and\n",
    "glocose as the response. Remove the rows with diabetes == yes"
   ]
  },
  {
   "cell_type": "markdown",
   "id": "bf8ca0d1",
   "metadata": {},
   "source": [
    "First, import data and apply filter \"diabetes = no\"."
   ]
  },
  {
   "cell_type": "code",
   "execution_count": 1,
   "id": "4ef48693",
   "metadata": {},
   "outputs": [
    {
     "data": {
      "text/html": [
       "<table>\n",
       "<thead><tr><th></th><th scope=col>ï..HT</th><th scope=col>age</th><th scope=col>raceth</th><th scope=col>nonwhite</th><th scope=col>smoking</th><th scope=col>drinkany</th><th scope=col>exercise</th><th scope=col>physact</th><th scope=col>globrat</th><th scope=col>poorfair</th><th scope=col>...</th><th scope=col>LDL</th><th scope=col>HDL</th><th scope=col>TG</th><th scope=col>tchol1</th><th scope=col>LDL1</th><th scope=col>HDL1</th><th scope=col>TG1</th><th scope=col>SBP</th><th scope=col>DBP</th><th scope=col>age10</th></tr></thead>\n",
       "<tbody>\n",
       "\t<tr><th scope=row>1</th><td>placebo             </td><td>70                  </td><td>African American    </td><td>yes                 </td><td>no                  </td><td>no                  </td><td>no                  </td><td>much more active    </td><td>good                </td><td>no                  </td><td>...                 </td><td>122.4               </td><td>52                  </td><td> 73                 </td><td>201                 </td><td>137.6               </td><td>48                  </td><td> 77                 </td><td>138                 </td><td>78                  </td><td>7.0                 </td></tr>\n",
       "\t<tr><th scope=row>2</th><td>placebo             </td><td>62                  </td><td>African American    </td><td>yes                 </td><td>no                  </td><td>no                  </td><td>no                  </td><td>much less active    </td><td>good                </td><td>no                  </td><td>...                 </td><td>241.6               </td><td>44                  </td><td>107                 </td><td>216                 </td><td>150.6               </td><td>48                  </td><td> 87                 </td><td>118                 </td><td>70                  </td><td>6.2                 </td></tr>\n",
       "\t<tr><th scope=row>4</th><td>placebo             </td><td>64                  </td><td>White               </td><td>no                  </td><td>yes                 </td><td>yes                 </td><td>no                  </td><td>much less active    </td><td>good                </td><td>no                  </td><td>...                 </td><td>116.2               </td><td>56                  </td><td>159                 </td><td>207                 </td><td>122.6               </td><td>57                  </td><td>137                 </td><td>152                 </td><td>72                  </td><td>6.4                 </td></tr>\n",
       "\t<tr><th scope=row>5</th><td>placebo             </td><td>65                  </td><td>White               </td><td>no                  </td><td>no                  </td><td>no                  </td><td>no                  </td><td>somewhat less active</td><td>good                </td><td>no                  </td><td>...                 </td><td>150.6               </td><td>42                  </td><td>107                 </td><td>235                 </td><td>172.2               </td><td>35                  </td><td>139                 </td><td>175                 </td><td>95                  </td><td>6.5                 </td></tr>\n",
       "\t<tr><th scope=row>6</th><td>hormone therapy     </td><td>68                  </td><td>African American    </td><td>yes                 </td><td>no                  </td><td>yes                 </td><td>no                  </td><td>about as active     </td><td>good                </td><td>no                  </td><td>...                 </td><td>137.8               </td><td>52                  </td><td>111                 </td><td>202                 </td><td>126.6               </td><td>53                  </td><td>112                 </td><td>174                 </td><td>98                  </td><td>6.8                 </td></tr>\n",
       "\t<tr><th scope=row>8</th><td>hormone therapy     </td><td>69                  </td><td>White               </td><td>no                  </td><td>no                  </td><td>no                  </td><td>yes                 </td><td>much more active    </td><td>very good           </td><td>no                  </td><td>...                 </td><td>121.2               </td><td>46                  </td><td>139                 </td><td>190                 </td><td>113.4               </td><td>54                  </td><td>113                 </td><td>178                 </td><td>82                  </td><td>6.9                 </td></tr>\n",
       "</tbody>\n",
       "</table>\n"
      ],
      "text/latex": [
       "\\begin{tabular}{r|lllllllllllllllllllllllllllllllllllll}\n",
       "  & ï..HT & age & raceth & nonwhite & smoking & drinkany & exercise & physact & globrat & poorfair & ... & LDL & HDL & TG & tchol1 & LDL1 & HDL1 & TG1 & SBP & DBP & age10\\\\\n",
       "\\hline\n",
       "\t1 & placebo              & 70                   & African American     & yes                  & no                   & no                   & no                   & much more active     & good                 & no                   & ...                  & 122.4                & 52                   &  73                  & 201                  & 137.6                & 48                   &  77                  & 138                  & 78                   & 7.0                 \\\\\n",
       "\t2 & placebo              & 62                   & African American     & yes                  & no                   & no                   & no                   & much less active     & good                 & no                   & ...                  & 241.6                & 44                   & 107                  & 216                  & 150.6                & 48                   &  87                  & 118                  & 70                   & 6.2                 \\\\\n",
       "\t4 & placebo              & 64                   & White                & no                   & yes                  & yes                  & no                   & much less active     & good                 & no                   & ...                  & 116.2                & 56                   & 159                  & 207                  & 122.6                & 57                   & 137                  & 152                  & 72                   & 6.4                 \\\\\n",
       "\t5 & placebo              & 65                   & White                & no                   & no                   & no                   & no                   & somewhat less active & good                 & no                   & ...                  & 150.6                & 42                   & 107                  & 235                  & 172.2                & 35                   & 139                  & 175                  & 95                   & 6.5                 \\\\\n",
       "\t6 & hormone therapy      & 68                   & African American     & yes                  & no                   & yes                  & no                   & about as active      & good                 & no                   & ...                  & 137.8                & 52                   & 111                  & 202                  & 126.6                & 53                   & 112                  & 174                  & 98                   & 6.8                 \\\\\n",
       "\t8 & hormone therapy      & 69                   & White                & no                   & no                   & no                   & yes                  & much more active     & very good            & no                   & ...                  & 121.2                & 46                   & 139                  & 190                  & 113.4                & 54                   & 113                  & 178                  & 82                   & 6.9                 \\\\\n",
       "\\end{tabular}\n"
      ],
      "text/markdown": [
       "\n",
       "| <!--/--> | ï..HT | age | raceth | nonwhite | smoking | drinkany | exercise | physact | globrat | poorfair | ... | LDL | HDL | TG | tchol1 | LDL1 | HDL1 | TG1 | SBP | DBP | age10 |\n",
       "|---|---|---|---|---|---|---|---|---|---|---|---|---|---|---|---|---|---|---|---|---|---|\n",
       "| 1 | placebo              | 70                   | African American     | yes                  | no                   | no                   | no                   | much more active     | good                 | no                   | ...                  | 122.4                | 52                   |  73                  | 201                  | 137.6                | 48                   |  77                  | 138                  | 78                   | 7.0                  |\n",
       "| 2 | placebo              | 62                   | African American     | yes                  | no                   | no                   | no                   | much less active     | good                 | no                   | ...                  | 241.6                | 44                   | 107                  | 216                  | 150.6                | 48                   |  87                  | 118                  | 70                   | 6.2                  |\n",
       "| 4 | placebo              | 64                   | White                | no                   | yes                  | yes                  | no                   | much less active     | good                 | no                   | ...                  | 116.2                | 56                   | 159                  | 207                  | 122.6                | 57                   | 137                  | 152                  | 72                   | 6.4                  |\n",
       "| 5 | placebo              | 65                   | White                | no                   | no                   | no                   | no                   | somewhat less active | good                 | no                   | ...                  | 150.6                | 42                   | 107                  | 235                  | 172.2                | 35                   | 139                  | 175                  | 95                   | 6.5                  |\n",
       "| 6 | hormone therapy      | 68                   | African American     | yes                  | no                   | yes                  | no                   | about as active      | good                 | no                   | ...                  | 137.8                | 52                   | 111                  | 202                  | 126.6                | 53                   | 112                  | 174                  | 98                   | 6.8                  |\n",
       "| 8 | hormone therapy      | 69                   | White                | no                   | no                   | no                   | yes                  | much more active     | very good            | no                   | ...                  | 121.2                | 46                   | 139                  | 190                  | 113.4                | 54                   | 113                  | 178                  | 82                   | 6.9                  |\n",
       "\n"
      ],
      "text/plain": [
       "  ï..HT           age raceth           nonwhite smoking drinkany exercise\n",
       "1 placebo         70  African American yes      no      no       no      \n",
       "2 placebo         62  African American yes      no      no       no      \n",
       "4 placebo         64  White            no       yes     yes      no      \n",
       "5 placebo         65  White            no       no      no       no      \n",
       "6 hormone therapy 68  African American yes      no      yes      no      \n",
       "8 hormone therapy 69  White            no       no      no       yes     \n",
       "  physact              globrat   poorfair ... LDL   HDL TG  tchol1 LDL1  HDL1\n",
       "1 much more active     good      no       ... 122.4 52   73 201    137.6 48  \n",
       "2 much less active     good      no       ... 241.6 44  107 216    150.6 48  \n",
       "4 much less active     good      no       ... 116.2 56  159 207    122.6 57  \n",
       "5 somewhat less active good      no       ... 150.6 42  107 235    172.2 35  \n",
       "6 about as active      good      no       ... 137.8 52  111 202    126.6 53  \n",
       "8 much more active     very good no       ... 121.2 46  139 190    113.4 54  \n",
       "  TG1 SBP DBP age10\n",
       "1  77 138 78  7.0  \n",
       "2  87 118 70  6.2  \n",
       "4 137 152 72  6.4  \n",
       "5 139 175 95  6.5  \n",
       "6 112 174 98  6.8  \n",
       "8 113 178 82  6.9  "
      ]
     },
     "metadata": {},
     "output_type": "display_data"
    }
   ],
   "source": [
    "hers = read.csv(\"hersdata.csv\")\n",
    "hers = hers[hers$diabetes ==\"no\",]\n",
    "head(hers)"
   ]
  },
  {
   "cell_type": "markdown",
   "id": "80f71f5d",
   "metadata": {},
   "source": [
    "Let's create a multiple linear regression:"
   ]
  },
  {
   "cell_type": "code",
   "execution_count": 2,
   "id": "912aa73b",
   "metadata": {
    "scrolled": false
   },
   "outputs": [
    {
     "data": {
      "text/plain": [
       "\n",
       "Call:\n",
       "lm(formula = glucose ~ exercise + age + drinkany + BMI, data = hers)\n",
       "\n",
       "Residuals:\n",
       "    Min      1Q  Median      3Q     Max \n",
       "-47.582  -6.381  -0.901   5.508  32.015 \n",
       "\n",
       "Coefficients:\n",
       "             Estimate Std. Error t value Pr(>|t|)    \n",
       "(Intercept)  89.47279    7.11416  12.577   <2e-16 ***\n",
       "exerciseyes  -0.91077    0.42933  -2.121   0.0340 *  \n",
       "age           0.06093    0.03144   1.938   0.0528 .  \n",
       "drinkanyno  -10.34285    6.66006  -1.553   0.1206    \n",
       "drinkanyyes  -9.66632    6.66150  -1.451   0.1469    \n",
       "BMI           0.48899    0.04163  11.746   <2e-16 ***\n",
       "---\n",
       "Signif. codes:  0 '***' 0.001 '**' 0.01 '*' 0.05 '.' 0.1 ' ' 1\n",
       "\n",
       "Residual standard error: 9.406 on 2024 degrees of freedom\n",
       "  (2 observations deleted due to missingness)\n",
       "Multiple R-squared:  0.07188,\tAdjusted R-squared:  0.06959 \n",
       "F-statistic: 31.35 on 5 and 2024 DF,  p-value: < 2.2e-16\n"
      ]
     },
     "metadata": {},
     "output_type": "display_data"
    }
   ],
   "source": [
    "fit.linreg <- lm(glucose ~ exercise + age + drinkany + BMI, data = hers)\n",
    "summary(fit.linreg)"
   ]
  },
  {
   "cell_type": "markdown",
   "id": "c49ae94b",
   "metadata": {},
   "source": [
    "2. What is the interpretation of Estimate column in the 'exercise' row of the summary? It can be viewed\n",
    "using the command summary(model)."
   ]
  },
  {
   "cell_type": "markdown",
   "id": "ea75cce8",
   "metadata": {},
   "source": [
    "From the result shown above, the estimate of the variable 'exercise' is -0.91.<br>\n",
    "This estimate means that the glucose level would be 0.91 lower if an observee exercises, compared to an observee that<br>\n",
    "doesn't exercise, given the other factors being unchanged (i.e., the observee in the same age, same BMI, and no drinking habit."
   ]
  },
  {
   "cell_type": "markdown",
   "id": "74ae59e4",
   "metadata": {},
   "source": [
    "3. What is the R-square value of the model? What is its interpretation?"
   ]
  },
  {
   "cell_type": "markdown",
   "id": "1fa9c6b1",
   "metadata": {},
   "source": [
    "From the result shown above, the R-square is scored 0.072.<br>\n",
    "This means our current multiple regression model explains 7.2% of the variance in the glucose measure using variables 'age', 'drinkany', 'BMI', and 'exercise.'<br>\n",
    "Because of a low R-square score, we should reassess this regression model and try to improve it."
   ]
  },
  {
   "cell_type": "markdown",
   "id": "a01d6bab",
   "metadata": {},
   "source": [
    "4. Use the command confint(model) to get the confidence interval of age. What is its interpretation?"
   ]
  },
  {
   "cell_type": "code",
   "execution_count": 3,
   "id": "b9eff9c2",
   "metadata": {},
   "outputs": [
    {
     "data": {
      "text/html": [
       "<table>\n",
       "<thead><tr><th></th><th scope=col>2.5 %</th><th scope=col>97.5 %</th></tr></thead>\n",
       "<tbody>\n",
       "\t<tr><th scope=row>(Intercept)</th><td> 7.552095e+01</td><td>103.42462775 </td></tr>\n",
       "\t<tr><th scope=row>exerciseyes</th><td>-1.752750e+00</td><td> -0.06879174 </td></tr>\n",
       "\t<tr><th scope=row>age</th><td>-7.263436e-04</td><td>  0.12258237 </td></tr>\n",
       "\t<tr><th scope=row>drinkanyno</th><td>-2.340413e+01</td><td>  2.71843279 </td></tr>\n",
       "\t<tr><th scope=row>drinkanyyes</th><td>-2.273044e+01</td><td>  3.39780235 </td></tr>\n",
       "\t<tr><th scope=row>BMI</th><td> 4.073452e-01</td><td>  0.57063578 </td></tr>\n",
       "</tbody>\n",
       "</table>\n"
      ],
      "text/latex": [
       "\\begin{tabular}{r|ll}\n",
       "  & 2.5 \\% & 97.5 \\%\\\\\n",
       "\\hline\n",
       "\t(Intercept) &  7.552095e+01 & 103.42462775 \\\\\n",
       "\texerciseyes & -1.752750e+00 &  -0.06879174 \\\\\n",
       "\tage & -7.263436e-04 &   0.12258237 \\\\\n",
       "\tdrinkanyno & -2.340413e+01 &   2.71843279 \\\\\n",
       "\tdrinkanyyes & -2.273044e+01 &   3.39780235 \\\\\n",
       "\tBMI &  4.073452e-01 &   0.57063578 \\\\\n",
       "\\end{tabular}\n"
      ],
      "text/markdown": [
       "\n",
       "| <!--/--> | 2.5 % | 97.5 % |\n",
       "|---|---|---|\n",
       "| (Intercept) |  7.552095e+01 | 103.42462775  |\n",
       "| exerciseyes | -1.752750e+00 |  -0.06879174  |\n",
       "| age | -7.263436e-04 |   0.12258237  |\n",
       "| drinkanyno | -2.340413e+01 |   2.71843279  |\n",
       "| drinkanyyes | -2.273044e+01 |   3.39780235  |\n",
       "| BMI |  4.073452e-01 |   0.57063578  |\n",
       "\n"
      ],
      "text/plain": [
       "            2.5 %         97.5 %      \n",
       "(Intercept)  7.552095e+01 103.42462775\n",
       "exerciseyes -1.752750e+00  -0.06879174\n",
       "age         -7.263436e-04   0.12258237\n",
       "drinkanyno  -2.340413e+01   2.71843279\n",
       "drinkanyyes -2.273044e+01   3.39780235\n",
       "BMI          4.073452e-01   0.57063578"
      ]
     },
     "metadata": {},
     "output_type": "display_data"
    }
   ],
   "source": [
    "confint(fit.linreg)"
   ]
  },
  {
   "cell_type": "markdown",
   "id": "e69b7f99",
   "metadata": {},
   "source": [
    "From the result shown above, we can see that the 95% confidence interval of variable 'age' is [0.0007,0.1226].<br>\n",
    "To interpret, we are 95% confident that an increase of one year old for an observee expects the glucose level between 0.0007 and 0.1226 mmol/L."
   ]
  },
  {
   "cell_type": "markdown",
   "id": "5ceb0322",
   "metadata": {},
   "source": [
    "### Problem 2: Logistic Regression\n",
    "<br>\n",
    "The western collaborative group study (WCGS) was a large epidemiological study designed to investigate the\n",
    "association between the “type A” behavior pattern and coronary heart disease (CHD). In WCGS, more than\n",
    "3000 men were recruited to the study, and a number of (potential) risk factors were recorded at entry. The\n",
    "men were then followed for about ten years, and it was recorded if they developed CHD or not.\n",
    "<br>\n",
    "<br>\n",
    "In this exercise, we will restrict ourselves to study the effect of smoking and age on the risk for CHD.\n",
    "You may read the WCGS data into R by the command:"
   ]
  },
  {
   "cell_type": "code",
   "execution_count": 4,
   "id": "0df714d8",
   "metadata": {},
   "outputs": [
    {
     "data": {
      "text/html": [
       "<table>\n",
       "<thead><tr><th scope=col>id</th><th scope=col>age</th><th scope=col>height</th><th scope=col>weight</th><th scope=col>sbp</th><th scope=col>dbp</th><th scope=col>chol</th><th scope=col>behpat</th><th scope=col>ncigs</th><th scope=col>dibpat</th><th scope=col>...</th><th scope=col>wghtcat</th><th scope=col>agec</th><th scope=col>cholc</th><th scope=col>smoke</th><th scope=col>bmi</th><th scope=col>bage_50</th><th scope=col>chol_50</th><th scope=col>age_10</th><th scope=col>bmi_10</th><th scope=col>sbp_50</th></tr></thead>\n",
       "<tbody>\n",
       "\t<tr><td> 2343  </td><td>50     </td><td>67     </td><td>200    </td><td>132    </td><td>90     </td><td>249    </td><td>1      </td><td>25     </td><td>1      </td><td>...    </td><td>200    </td><td>2      </td><td>2      </td><td>1      </td><td>31.3210</td><td>1      </td><td> 0.4526</td><td> 0.3721</td><td> 0.6803</td><td> 0.0673</td></tr>\n",
       "\t<tr><td> 3656  </td><td>51     </td><td>73     </td><td>192    </td><td>120    </td><td>74     </td><td>194    </td><td>1      </td><td>25     </td><td>1      </td><td>...    </td><td>200    </td><td>3      </td><td>1      </td><td>1      </td><td>25.3286</td><td>1      </td><td>-0.6474</td><td> 0.4721</td><td> 0.0810</td><td>-0.1727</td></tr>\n",
       "\t<tr><td> 3526  </td><td>59     </td><td>70     </td><td>200    </td><td>158    </td><td>94     </td><td>258    </td><td>1      </td><td> 0     </td><td>1      </td><td>...    </td><td>200    </td><td>4      </td><td>3      </td><td>0      </td><td>28.6939</td><td>1      </td><td> 0.6326</td><td> 1.2721</td><td> 0.4176</td><td> 0.5873</td></tr>\n",
       "\t<tr><td>22057  </td><td>51     </td><td>69     </td><td>150    </td><td>126    </td><td>80     </td><td>173    </td><td>1      </td><td> 0     </td><td>1      </td><td>...    </td><td>170    </td><td>3      </td><td>1      </td><td>0      </td><td>22.1487</td><td>1      </td><td>-1.0674</td><td> 0.4721</td><td>-0.2370</td><td>-0.0527</td></tr>\n",
       "\t<tr><td>12927  </td><td>44     </td><td>71     </td><td>160    </td><td>126    </td><td>80     </td><td>214    </td><td>1      </td><td> 0     </td><td>1      </td><td>...    </td><td>170    </td><td>1      </td><td>2      </td><td>0      </td><td>22.3130</td><td>0      </td><td>-0.2474</td><td>-0.2279</td><td>-0.2205</td><td>-0.0527</td></tr>\n",
       "\t<tr><td>16029  </td><td>47     </td><td>64     </td><td>158    </td><td>116    </td><td>76     </td><td>206    </td><td>1      </td><td>80     </td><td>1      </td><td>...    </td><td>170    </td><td>2      </td><td>2      </td><td>1      </td><td>27.1177</td><td>0      </td><td>-0.4074</td><td> 0.0721</td><td> 0.2599</td><td>-0.2527</td></tr>\n",
       "</tbody>\n",
       "</table>\n"
      ],
      "text/latex": [
       "\\begin{tabular}{r|llllllllllllllllllllllllllllllllllll}\n",
       " id & age & height & weight & sbp & dbp & chol & behpat & ncigs & dibpat & ... & wghtcat & agec & cholc & smoke & bmi & bage\\_50 & chol\\_50 & age\\_10 & bmi\\_10 & sbp\\_50\\\\\n",
       "\\hline\n",
       "\t  2343   & 50      & 67      & 200     & 132     & 90      & 249     & 1       & 25      & 1       & ...     & 200     & 2       & 2       & 1       & 31.3210 & 1       &  0.4526 &  0.3721 &  0.6803 &  0.0673\\\\\n",
       "\t  3656   & 51      & 73      & 192     & 120     & 74      & 194     & 1       & 25      & 1       & ...     & 200     & 3       & 1       & 1       & 25.3286 & 1       & -0.6474 &  0.4721 &  0.0810 & -0.1727\\\\\n",
       "\t  3526   & 59      & 70      & 200     & 158     & 94      & 258     & 1       &  0      & 1       & ...     & 200     & 4       & 3       & 0       & 28.6939 & 1       &  0.6326 &  1.2721 &  0.4176 &  0.5873\\\\\n",
       "\t 22057   & 51      & 69      & 150     & 126     & 80      & 173     & 1       &  0      & 1       & ...     & 170     & 3       & 1       & 0       & 22.1487 & 1       & -1.0674 &  0.4721 & -0.2370 & -0.0527\\\\\n",
       "\t 12927   & 44      & 71      & 160     & 126     & 80      & 214     & 1       &  0      & 1       & ...     & 170     & 1       & 2       & 0       & 22.3130 & 0       & -0.2474 & -0.2279 & -0.2205 & -0.0527\\\\\n",
       "\t 16029   & 47      & 64      & 158     & 116     & 76      & 206     & 1       & 80      & 1       & ...     & 170     & 2       & 2       & 1       & 27.1177 & 0       & -0.4074 &  0.0721 &  0.2599 & -0.2527\\\\\n",
       "\\end{tabular}\n"
      ],
      "text/markdown": [
       "\n",
       "| id | age | height | weight | sbp | dbp | chol | behpat | ncigs | dibpat | ... | wghtcat | agec | cholc | smoke | bmi | bage_50 | chol_50 | age_10 | bmi_10 | sbp_50 |\n",
       "|---|---|---|---|---|---|---|---|---|---|---|---|---|---|---|---|---|---|---|---|---|\n",
       "|  2343   | 50      | 67      | 200     | 132     | 90      | 249     | 1       | 25      | 1       | ...     | 200     | 2       | 2       | 1       | 31.3210 | 1       |  0.4526 |  0.3721 |  0.6803 |  0.0673 |\n",
       "|  3656   | 51      | 73      | 192     | 120     | 74      | 194     | 1       | 25      | 1       | ...     | 200     | 3       | 1       | 1       | 25.3286 | 1       | -0.6474 |  0.4721 |  0.0810 | -0.1727 |\n",
       "|  3526   | 59      | 70      | 200     | 158     | 94      | 258     | 1       |  0      | 1       | ...     | 200     | 4       | 3       | 0       | 28.6939 | 1       |  0.6326 |  1.2721 |  0.4176 |  0.5873 |\n",
       "| 22057   | 51      | 69      | 150     | 126     | 80      | 173     | 1       |  0      | 1       | ...     | 170     | 3       | 1       | 0       | 22.1487 | 1       | -1.0674 |  0.4721 | -0.2370 | -0.0527 |\n",
       "| 12927   | 44      | 71      | 160     | 126     | 80      | 214     | 1       |  0      | 1       | ...     | 170     | 1       | 2       | 0       | 22.3130 | 0       | -0.2474 | -0.2279 | -0.2205 | -0.0527 |\n",
       "| 16029   | 47      | 64      | 158     | 116     | 76      | 206     | 1       | 80      | 1       | ...     | 170     | 2       | 2       | 1       | 27.1177 | 0       | -0.4074 |  0.0721 |  0.2599 | -0.2527 |\n",
       "\n"
      ],
      "text/plain": [
       "  id    age height weight sbp dbp chol behpat ncigs dibpat ... wghtcat agec\n",
       "1  2343 50  67     200    132 90  249  1      25    1      ... 200     2   \n",
       "2  3656 51  73     192    120 74  194  1      25    1      ... 200     3   \n",
       "3  3526 59  70     200    158 94  258  1       0    1      ... 200     4   \n",
       "4 22057 51  69     150    126 80  173  1       0    1      ... 170     3   \n",
       "5 12927 44  71     160    126 80  214  1       0    1      ... 170     1   \n",
       "6 16029 47  64     158    116 76  206  1      80    1      ... 170     2   \n",
       "  cholc smoke bmi     bage_50 chol_50 age_10  bmi_10  sbp_50 \n",
       "1 2     1     31.3210 1        0.4526  0.3721  0.6803  0.0673\n",
       "2 1     1     25.3286 1       -0.6474  0.4721  0.0810 -0.1727\n",
       "3 3     0     28.6939 1        0.6326  1.2721  0.4176  0.5873\n",
       "4 1     0     22.1487 1       -1.0674  0.4721 -0.2370 -0.0527\n",
       "5 2     0     22.3130 0       -0.2474 -0.2279 -0.2205 -0.0527\n",
       "6 2     1     27.1177 0       -0.4074  0.0721  0.2599 -0.2527"
      ]
     },
     "metadata": {},
     "output_type": "display_data"
    }
   ],
   "source": [
    "wcgs = read.table(\"http://www.uio.no/studier/emner/matnat/math/STK4900/data/wcgs.txt\", sep=\"\\t\", header=TRUE, na.strings=\".\")\n",
    "head(wcgs)"
   ]
  },
  {
   "cell_type": "markdown",
   "id": "f32f2c22",
   "metadata": {},
   "source": [
    "1. Fit a logistic regression model with smoke as covariate. Is there a statistically significant effect\n",
    "of smoking on the risk of developing CHD? Your outcome variable is “chd69” and your covariate is\n",
    "“smoke”, which is a categorical binary variable."
   ]
  },
  {
   "cell_type": "code",
   "execution_count": 5,
   "id": "0cb6ed03",
   "metadata": {},
   "outputs": [
    {
     "data": {
      "text/plain": [
       "\n",
       "Call:\n",
       "glm(formula = chd69 ~ smoke, family = binomial, data = wcgs)\n",
       "\n",
       "Deviance Residuals: \n",
       "    Min       1Q   Median       3Q      Max  \n",
       "-0.4731  -0.4731  -0.3497  -0.3497   2.3769  \n",
       "\n",
       "Coefficients:\n",
       "            Estimate Std. Error z value Pr(>|z|)    \n",
       "(Intercept)  -2.7636     0.1042  -26.54  < 2e-16 ***\n",
       "smoke         0.6299     0.1337    4.71 2.47e-06 ***\n",
       "---\n",
       "Signif. codes:  0 '***' 0.001 '**' 0.01 '*' 0.05 '.' 0.1 ' ' 1\n",
       "\n",
       "(Dispersion parameter for binomial family taken to be 1)\n",
       "\n",
       "    Null deviance: 1781.2  on 3153  degrees of freedom\n",
       "Residual deviance: 1758.4  on 3152  degrees of freedom\n",
       "AIC: 1762.4\n",
       "\n",
       "Number of Fisher Scoring iterations: 5\n"
      ]
     },
     "metadata": {},
     "output_type": "display_data"
    }
   ],
   "source": [
    "fit.smoke <- glm(chd69 ~ smoke, data = wcgs, family = binomial)\n",
    "summary(fit.smoke)"
   ]
  },
  {
   "cell_type": "markdown",
   "id": "33e7e185",
   "metadata": {},
   "source": [
    "From the result shown above, we find a significant statistical effect of smoking on the risk of developing CHD, with <br>\n",
    "a very positive p-value of 2.47e-06 (which is much smaller than 0.05).<br>"
   ]
  },
  {
   "cell_type": "markdown",
   "id": "4ad4dd8b",
   "metadata": {},
   "source": [
    "2. Compute a 95% confidence interval for the regression coefficient for smoking. Also estimate the\n",
    "odds ratio for smoking and determine a 95% confidence interval for the odds ratio. Explain in words\n",
    "the meaning of the estimated odds ratio and its confidence interval."
   ]
  },
  {
   "cell_type": "code",
   "execution_count": 6,
   "id": "9492b512",
   "metadata": {},
   "outputs": [
    {
     "name": "stderr",
     "output_type": "stream",
     "text": [
      "Waiting for profiling to be done...\n"
     ]
    },
    {
     "data": {
      "text/html": [
       "<table>\n",
       "<thead><tr><th></th><th scope=col>2.5 %</th><th scope=col>97.5 %</th></tr></thead>\n",
       "<tbody>\n",
       "\t<tr><th scope=row>(Intercept)</th><td>-2.9741104</td><td>-2.5653968</td></tr>\n",
       "\t<tr><th scope=row>smoke</th><td> 0.3697937</td><td> 0.8945827</td></tr>\n",
       "</tbody>\n",
       "</table>\n"
      ],
      "text/latex": [
       "\\begin{tabular}{r|ll}\n",
       "  & 2.5 \\% & 97.5 \\%\\\\\n",
       "\\hline\n",
       "\t(Intercept) & -2.9741104 & -2.5653968\\\\\n",
       "\tsmoke &  0.3697937 &  0.8945827\\\\\n",
       "\\end{tabular}\n"
      ],
      "text/markdown": [
       "\n",
       "| <!--/--> | 2.5 % | 97.5 % |\n",
       "|---|---|---|\n",
       "| (Intercept) | -2.9741104 | -2.5653968 |\n",
       "| smoke |  0.3697937 |  0.8945827 |\n",
       "\n"
      ],
      "text/plain": [
       "            2.5 %      97.5 %    \n",
       "(Intercept) -2.9741104 -2.5653968\n",
       "smoke        0.3697937  0.8945827"
      ]
     },
     "metadata": {},
     "output_type": "display_data"
    }
   ],
   "source": [
    "confint(fit.smoke)"
   ]
  },
  {
   "cell_type": "markdown",
   "id": "8f0fc2d2",
   "metadata": {},
   "source": [
    "The result above shows us that a 95% confidence interval of smoking is [0.37, 0.89].<br>"
   ]
  },
  {
   "cell_type": "code",
   "execution_count": 7,
   "id": "def00940",
   "metadata": {},
   "outputs": [
    {
     "data": {
      "text/html": [
       "<dl class=dl-horizontal>\n",
       "\t<dt>(Intercept)</dt>\n",
       "\t\t<dd>0.0630630630807408</dd>\n",
       "\t<dt>smoke</dt>\n",
       "\t\t<dd>1.87735347250852</dd>\n",
       "</dl>\n"
      ],
      "text/latex": [
       "\\begin{description*}\n",
       "\\item[(Intercept)] 0.0630630630807408\n",
       "\\item[smoke] 1.87735347250852\n",
       "\\end{description*}\n"
      ],
      "text/markdown": [
       "(Intercept)\n",
       ":   0.0630630630807408smoke\n",
       ":   1.87735347250852\n",
       "\n"
      ],
      "text/plain": [
       "(Intercept)       smoke \n",
       " 0.06306306  1.87735347 "
      ]
     },
     "metadata": {},
     "output_type": "display_data"
    }
   ],
   "source": [
    "exp(coef(fit.smoke))"
   ]
  },
  {
   "cell_type": "markdown",
   "id": "4dbd6143",
   "metadata": {},
   "source": [
    "The result above shows that the odds of developing CHD for smokers over non-smokers is 1.8774.<br>\n",
    "This means the probability of developing CHD for smokers is 87.74% higher than non-smokers.<br>"
   ]
  },
  {
   "cell_type": "code",
   "execution_count": 8,
   "id": "220f83d0",
   "metadata": {},
   "outputs": [
    {
     "name": "stderr",
     "output_type": "stream",
     "text": [
      "Waiting for profiling to be done...\n"
     ]
    },
    {
     "data": {
      "text/html": [
       "<table>\n",
       "<thead><tr><th></th><th scope=col>2.5 %</th><th scope=col>97.5 %</th></tr></thead>\n",
       "<tbody>\n",
       "\t<tr><th scope=row>(Intercept)</th><td>0.05109287</td><td>0.07688866</td></tr>\n",
       "\t<tr><th scope=row>smoke</th><td>1.44743591</td><td>2.44631483</td></tr>\n",
       "</tbody>\n",
       "</table>\n"
      ],
      "text/latex": [
       "\\begin{tabular}{r|ll}\n",
       "  & 2.5 \\% & 97.5 \\%\\\\\n",
       "\\hline\n",
       "\t(Intercept) & 0.05109287 & 0.07688866\\\\\n",
       "\tsmoke & 1.44743591 & 2.44631483\\\\\n",
       "\\end{tabular}\n"
      ],
      "text/markdown": [
       "\n",
       "| <!--/--> | 2.5 % | 97.5 % |\n",
       "|---|---|---|\n",
       "| (Intercept) | 0.05109287 | 0.07688866 |\n",
       "| smoke | 1.44743591 | 2.44631483 |\n",
       "\n"
      ],
      "text/plain": [
       "            2.5 %      97.5 %    \n",
       "(Intercept) 0.05109287 0.07688866\n",
       "smoke       1.44743591 2.44631483"
      ]
     },
     "metadata": {},
     "output_type": "display_data"
    }
   ],
   "source": [
    "exp(confint(fit.smoke))"
   ]
  },
  {
   "cell_type": "markdown",
   "id": "45362dd5",
   "metadata": {},
   "source": [
    "The result above shows that we are 95% confident that the odds ratio of developing CHD for smokers over non-smokers<br>\n",
    "is between 1.4474 and 2.4463."
   ]
  },
  {
   "cell_type": "markdown",
   "id": "55412be0",
   "metadata": {},
   "source": [
    "3. Now we move on to a continuous variable “age”. Similarly, use logistic regression to study the\n",
    "effect of age (at entry to the study) on the risk of developing CHD. Compute the estimated odds ratio\n",
    "and explain in words the meaning of it."
   ]
  },
  {
   "cell_type": "code",
   "execution_count": 9,
   "id": "73a2471f",
   "metadata": {},
   "outputs": [
    {
     "data": {
      "text/plain": [
       "\n",
       "Call:\n",
       "glm(formula = chd69 ~ age, family = binomial, data = wcgs)\n",
       "\n",
       "Deviance Residuals: \n",
       "    Min       1Q   Median       3Q      Max  \n",
       "-0.6209  -0.4545  -0.3669  -0.3292   2.4835  \n",
       "\n",
       "Coefficients:\n",
       "            Estimate Std. Error z value Pr(>|z|)    \n",
       "(Intercept) -5.93952    0.54932 -10.813  < 2e-16 ***\n",
       "age          0.07442    0.01130   6.585 4.56e-11 ***\n",
       "---\n",
       "Signif. codes:  0 '***' 0.001 '**' 0.01 '*' 0.05 '.' 0.1 ' ' 1\n",
       "\n",
       "(Dispersion parameter for binomial family taken to be 1)\n",
       "\n",
       "    Null deviance: 1781.2  on 3153  degrees of freedom\n",
       "Residual deviance: 1738.4  on 3152  degrees of freedom\n",
       "AIC: 1742.4\n",
       "\n",
       "Number of Fisher Scoring iterations: 5\n"
      ]
     },
     "metadata": {},
     "output_type": "display_data"
    }
   ],
   "source": [
    "fit.age <- glm(chd69 ~ age, data = wcgs, family = binomial)\n",
    "summary(fit.age)"
   ]
  },
  {
   "cell_type": "code",
   "execution_count": 10,
   "id": "74c06215",
   "metadata": {},
   "outputs": [
    {
     "data": {
      "text/html": [
       "<dl class=dl-horizontal>\n",
       "\t<dt>(Intercept)</dt>\n",
       "\t\t<dd>0.00263330401811169</dd>\n",
       "\t<dt>age</dt>\n",
       "\t\t<dd>1.07726191274024</dd>\n",
       "</dl>\n"
      ],
      "text/latex": [
       "\\begin{description*}\n",
       "\\item[(Intercept)] 0.00263330401811169\n",
       "\\item[age] 1.07726191274024\n",
       "\\end{description*}\n"
      ],
      "text/markdown": [
       "(Intercept)\n",
       ":   0.00263330401811169age\n",
       ":   1.07726191274024\n",
       "\n"
      ],
      "text/plain": [
       "(Intercept)         age \n",
       "0.002633304 1.077261913 "
      ]
     },
     "metadata": {},
     "output_type": "display_data"
    }
   ],
   "source": [
    "exp(coef(fit.age))"
   ]
  },
  {
   "cell_type": "markdown",
   "id": "27bbac4b",
   "metadata": {},
   "source": [
    "The result above shows us that the odds of developing CHD for observees of one year older is 1.0773.<br>\n",
    "This means each one year older of a observee increases the probability of developing CHD by 7.7%."
   ]
  },
  {
   "cell_type": "markdown",
   "id": "b5cea5d0",
   "metadata": {},
   "source": [
    "4. When interpreting the effect of age, it may be reasonable to give the odds ratio corresponding\n",
    "to a ten-year increase in age (rather than a one-year increase as we did in the previous question).\n",
    "The easiest way to achieve this is to fit the logistic model using age/10 as a covariate. You can use\n",
    "“I(age/10)” as a new column in R. Compare the estimates of this model with the one in the previous\n",
    "question. What do you see?<br>\n",
    "(Hint: Think of the odds ratio in the new problem as the odds ratio in the old problem multiplied by\n",
    "the corresponding factor year by year for 10 times.)"
   ]
  },
  {
   "cell_type": "code",
   "execution_count": 11,
   "id": "15239919",
   "metadata": {},
   "outputs": [
    {
     "data": {
      "text/plain": [
       "\n",
       "Call:\n",
       "glm(formula = chd69 ~ age_10, family = binomial, data = wcgs)\n",
       "\n",
       "Deviance Residuals: \n",
       "    Min       1Q   Median       3Q      Max  \n",
       "-0.6209  -0.4545  -0.3669  -0.3292   2.4835  \n",
       "\n",
       "Coefficients:\n",
       "            Estimate Std. Error z value Pr(>|z|)    \n",
       "(Intercept) -2.49531    0.06927 -36.026  < 2e-16 ***\n",
       "age_10       0.74423    0.11302   6.585 4.56e-11 ***\n",
       "---\n",
       "Signif. codes:  0 '***' 0.001 '**' 0.01 '*' 0.05 '.' 0.1 ' ' 1\n",
       "\n",
       "(Dispersion parameter for binomial family taken to be 1)\n",
       "\n",
       "    Null deviance: 1781.2  on 3153  degrees of freedom\n",
       "Residual deviance: 1738.4  on 3152  degrees of freedom\n",
       "AIC: 1742.4\n",
       "\n",
       "Number of Fisher Scoring iterations: 5\n"
      ]
     },
     "metadata": {},
     "output_type": "display_data"
    }
   ],
   "source": [
    "fit.ageten <- glm(chd69 ~ age_10, data = wcgs, family = binomial)\n",
    "summary(fit.ageten)"
   ]
  },
  {
   "cell_type": "code",
   "execution_count": 12,
   "id": "34c7f5ff",
   "metadata": {},
   "outputs": [
    {
     "data": {
      "text/html": [
       "<dl class=dl-horizontal>\n",
       "\t<dt>(Intercept)</dt>\n",
       "\t\t<dd>0.0824705124064652</dd>\n",
       "\t<dt>age_10</dt>\n",
       "\t\t<dd>2.10481075242895</dd>\n",
       "</dl>\n"
      ],
      "text/latex": [
       "\\begin{description*}\n",
       "\\item[(Intercept)] 0.0824705124064652\n",
       "\\item[age\\textbackslash{}\\_10] 2.10481075242895\n",
       "\\end{description*}\n"
      ],
      "text/markdown": [
       "(Intercept)\n",
       ":   0.0824705124064652age_10\n",
       ":   2.10481075242895\n",
       "\n"
      ],
      "text/plain": [
       "(Intercept)      age_10 \n",
       " 0.08247051  2.10481075 "
      ]
     },
     "metadata": {},
     "output_type": "display_data"
    }
   ],
   "source": [
    "exp(coef(fit.ageten))"
   ]
  },
  {
   "cell_type": "markdown",
   "id": "89ae4d29",
   "metadata": {},
   "source": [
    "The result above shows us that the odds of developing CHD for observees of 10 year olders is 2.1048.<br>\n",
    "This means each 10 years older of a observee increases the probability of developing CHD by 110.48%."
   ]
  }
 ],
 "metadata": {
  "kernelspec": {
   "display_name": "R",
   "language": "R",
   "name": "ir"
  },
  "language_info": {
   "codemirror_mode": "r",
   "file_extension": ".r",
   "mimetype": "text/x-r-source",
   "name": "R",
   "pygments_lexer": "r",
   "version": "3.6.1"
  }
 },
 "nbformat": 4,
 "nbformat_minor": 5
}
