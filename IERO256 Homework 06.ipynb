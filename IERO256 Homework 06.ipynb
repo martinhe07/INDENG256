{
 "cells": [
  {
   "cell_type": "markdown",
   "id": "134637f9",
   "metadata": {},
   "source": [
    "### Problem 1: Linear Regression\n",
    "<br>\n",
    "For this problem, we use the Heart and Estrogen/progestin Replacement Study (HERS) dataset. HERS was\n",
    "a randomized, blinded, placebo-controlled secondary prevention trial of estrogen plus progestin for secondary\n",
    "prevention of coronary heart disease (CHD) in postmenopausal women."
   ]
  },
  {
   "cell_type": "markdown",
   "id": "c0b643e8",
   "metadata": {},
   "source": [
    "1. Perform Perform multiple linear regression using the lm function in R, to predict baseline glucose levels in the\n",
    "HERS clinical trial of hormoney therapy. Use exercise, age, drinkany, and BMI as the covariates, and\n",
    "glocose as the response. Remove the rows with diabetes == yes"
   ]
  },
  {
   "cell_type": "markdown",
   "id": "bf8ca0d1",
   "metadata": {},
   "source": [
    "First, import data and apply filter \"diabetes = no\"."
   ]
  },
  {
   "cell_type": "code",
   "execution_count": null,
   "id": "4ef48693",
   "metadata": {},
   "outputs": [],
   "source": [
    "hers = read.csv(\"hersdata.csv\")\n",
    "hers = hers[hers$diabetes ==\"no\",]"
   ]
  },
  {
   "cell_type": "code",
   "execution_count": null,
   "id": "739d418d",
   "metadata": {},
   "outputs": [],
   "source": []
  }
 ],
 "metadata": {
  "kernelspec": {
   "display_name": "R",
   "language": "R",
   "name": "ir"
  }
 },
 "nbformat": 4,
 "nbformat_minor": 5
}
