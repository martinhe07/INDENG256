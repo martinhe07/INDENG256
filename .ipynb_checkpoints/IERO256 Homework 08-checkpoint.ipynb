{
 "cells": [
  {
   "cell_type": "markdown",
   "id": "ad61fdf8",
   "metadata": {},
   "source": [
    "Assignee: Martin He"
   ]
  },
  {
   "cell_type": "markdown",
   "id": "134637f9",
   "metadata": {},
   "source": [
    "### Problem 1: Generalized Linear Mixed-Effects Model"
   ]
  },
  {
   "cell_type": "code",
   "execution_count": 1,
   "id": "301b3301",
   "metadata": {
    "vscode": {
     "languageId": "r"
    }
   },
   "outputs": [
    {
     "ename": "ERROR",
     "evalue": "Error in library(lme4): there is no package called 'lme4'\n",
     "output_type": "error",
     "traceback": [
      "Error in library(lme4): there is no package called 'lme4'\nTraceback:\n",
      "1. library(lme4)"
     ]
    }
   ],
   "source": [
    "## Load Generalized Linear Mixed-Effects Model library\n",
    "library(lme4)\n",
    "\n",
    "## Import data from csv file\n",
    "data <- read.csv(\"gababies.csv\")"
   ]
  },
  {
   "cell_type": "markdown",
   "id": "ea75cce8",
   "metadata": {},
   "source": [
    "1. Perform generalized linear mixed-effects model."
   ]
  },
  {
   "cell_type": "markdown",
   "id": "333e05bb",
   "metadata": {},
   "source": [
    "model <- glmer(lowbrth ~ initage + timesnc + birthord + (1 | momid),\n",
    "+ data = data, family = binomial(link = \"logit\")))"
   ]
  }
 ],
 "metadata": {
  "kernelspec": {
   "display_name": "R",
   "language": "R",
   "name": "ir"
  },
  "language_info": {
   "codemirror_mode": "r",
   "file_extension": ".r",
   "mimetype": "text/x-r-source",
   "name": "R",
   "pygments_lexer": "r",
   "version": "3.6.1"
  }
 },
 "nbformat": 4,
 "nbformat_minor": 5
}
