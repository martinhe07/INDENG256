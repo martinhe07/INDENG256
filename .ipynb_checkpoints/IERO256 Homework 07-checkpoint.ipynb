{
 "cells": [
  {
   "cell_type": "markdown",
   "id": "ad61fdf8",
   "metadata": {},
   "source": [
    "Assignee: Martin He"
   ]
  },
  {
   "cell_type": "markdown",
   "id": "134637f9",
   "metadata": {},
   "source": [
    "### Problem 1: Kaplan-Meier estimator"
   ]
  },
  {
   "cell_type": "code",
   "execution_count": 1,
   "id": "301b3301",
   "metadata": {},
   "outputs": [],
   "source": [
    "## Load Kaplan-Meier Estimator library\n",
    "library(survival)\n",
    "\n",
    "## Import data from csv file\n",
    "data <- read.csv(\"leuk.csv\")\n",
    "\n",
    "## Set up variables (time, condition) for 6-MP group and Placebo group (with condition of 1 indicating relapse):\n",
    "time_6mp <- data$time[data$group=='6 MP']\n",
    "condition_6mp <- data$cens[data$group=='6 MP']\n",
    "time_placebo <- data$time[data$group=='Placebo']\n",
    "condition_placebo <- data$cens[data$group=='Placebo']"
   ]
  },
  {
   "cell_type": "markdown",
   "id": "c0b643e8",
   "metadata": {},
   "source": [
    "1. Compute the survival function for Week 1 - 12, using the Kaplan-Meier estimator for each group."
   ]
  },
  {
   "cell_type": "code",
   "execution_count": 2,
   "id": "81e175f5",
   "metadata": {},
   "outputs": [
    {
     "name": "stdout",
     "output_type": "stream",
     "text": [
      "Follow-up Table for 6-MP Group Children:\n",
      "Call: survfit(formula = survival_6mp ~ 1)\n",
      "\n",
      " time n.risk n.event survival std.err lower 95% CI upper 95% CI\n",
      "    1     21       0    1.000  0.0000        1.000        1.000\n",
      "    2     21       0    1.000  0.0000        1.000        1.000\n",
      "    3     21       3    0.857  0.0764        0.720        1.000\n",
      "    4     17       1    0.807  0.0869        0.653        0.996\n",
      "    5     16       1    0.756  0.0950        0.591        0.967\n",
      "    6     13       0    0.756  0.0950        0.591        0.967\n",
      "    7     12       1    0.693  0.1059        0.514        0.935\n",
      "    8     11       1    0.630  0.1135        0.443        0.897\n",
      "    9     10       0    0.630  0.1135        0.443        0.897\n",
      "   10      9       0    0.630  0.1135        0.443        0.897\n",
      "   11      7       1    0.540  0.1281        0.339        0.860\n",
      "   12      6       1    0.450  0.1347        0.250        0.809\n"
     ]
    }
   ],
   "source": [
    "## First, calculating the survival funtion for 6-MP Group:\n",
    "survival_6mp <- Surv(time_6mp, condition_6mp)\n",
    "fit_6mp <- survfit(survival_6mp ~ 1)\n",
    "cat(\"Follow-up Table for 6-MP Group Children:\\n\")\n",
    "print(summary(fit_6mp, times = 1:12))"
   ]
  },
  {
   "cell_type": "code",
   "execution_count": 3,
   "id": "23d73e10",
   "metadata": {},
   "outputs": [
    {
     "name": "stdout",
     "output_type": "stream",
     "text": [
      "Follow-up Table for Placebo Group Children:\n",
      "Call: survfit(formula = survival_placebo ~ 1)\n",
      "\n",
      " time n.risk n.event survival std.err lower 95% CI upper 95% CI\n",
      "    1     21       4   0.8095  0.0857      0.65785        0.996\n",
      "    2     17       3   0.6667  0.1029      0.49268        0.902\n",
      "    3     14       2   0.5714  0.1080      0.39455        0.828\n",
      "    4     12       4   0.3810  0.1060      0.22085        0.657\n",
      "    5      8       0   0.3810  0.1060      0.22085        0.657\n",
      "    6      8       4   0.1905  0.0857      0.07887        0.460\n",
      "    7      4       0   0.1905  0.0857      0.07887        0.460\n",
      "    8      4       1   0.1429  0.0764      0.05011        0.407\n",
      "    9      3       1   0.0952  0.0641      0.02549        0.356\n",
      "   10      2       0   0.0952  0.0641      0.02549        0.356\n",
      "   11      2       1   0.0476  0.0465      0.00703        0.322\n",
      "   12      1       1   0.0000     NaN           NA           NA\n"
     ]
    }
   ],
   "source": [
    "## Then, calculating the survival funtion for Placebo Group:\n",
    "survival_placebo <- Surv(time_placebo, condition_placebo)\n",
    "fit_placebo <- survfit(survival_placebo ~ 1)\n",
    "cat(\"Follow-up Table for Placebo Group Children:\\n\")\n",
    "print(summary(fit_placebo, times = 1:12))"
   ]
  },
  {
   "cell_type": "markdown",
   "id": "ea75cce8",
   "metadata": {},
   "source": [
    "2. What are the median survival time for the two groups, 6-MP and placebo?"
   ]
  },
  {
   "cell_type": "code",
   "execution_count": 4,
   "id": "bbcd0923",
   "metadata": {},
   "outputs": [
    {
     "name": "stdout",
     "output_type": "stream",
     "text": [
      "12"
     ]
    }
   ],
   "source": [
    "## Calculating the median survival time for 6-MP:\n",
    "median_6mp <- summary(fit_6mp)$table['median']\n",
    "cat(median_6mp)"
   ]
  },
  {
   "cell_type": "code",
   "execution_count": 5,
   "id": "49b99523",
   "metadata": {},
   "outputs": [
    {
     "name": "stdout",
     "output_type": "stream",
     "text": [
      "4"
     ]
    }
   ],
   "source": [
    "## Calculating the median survival time for Placebo:\n",
    "median_placebo <- summary(fit_placebo)$table['median']\n",
    "cat(median_placebo)"
   ]
  },
  {
   "cell_type": "markdown",
   "id": "74ae59e4",
   "metadata": {},
   "source": [
    "3. Perform logrank test to compare the survival distributions, using R."
   ]
  },
  {
   "cell_type": "code",
   "execution_count": 6,
   "id": "fab039f5",
   "metadata": {},
   "outputs": [
    {
     "name": "stdout",
     "output_type": "stream",
     "text": [
      "Call:\n",
      "survdiff(formula = surv_obj ~ group, data = data)\n",
      "\n",
      "               N Observed Expected (O-E)^2/E (O-E)^2/V\n",
      "group=6 MP    21        9       19      5.25      16.7\n",
      "group=Placebo 21       21       11      9.06      16.7\n",
      "\n",
      " Chisq= 16.7  on 1 degrees of freedom, p= 4e-05 \n"
     ]
    }
   ],
   "source": [
    "surv_obj <- with(data, Surv(time, cens, type=\"right\"))\n",
    "logrank_test <- survdiff(surv_obj ~ group, data = data)\n",
    "print(logrank_test)"
   ]
  },
  {
   "cell_type": "markdown",
   "id": "a01d6bab",
   "metadata": {},
   "source": [
    "4. What is the conclusion of the logrank test?"
   ]
  },
  {
   "cell_type": "markdown",
   "id": "042692b0",
   "metadata": {},
   "source": [
    "A: This study was set up a null hypothesis: survival probabilities of 6-MP and of Placebo are the same at all follow-up times.\n",
    "By running the logrank test above, we check the chi-square result which is 16.7, as well as the p-value which is 0.00004.\n",
    "These result means there is a significant difference in the survival probabilities between 6-MP and Placebo Group,\n",
    "hence rejecting the null hypothesis."
   ]
  }
 ],
 "metadata": {
  "kernelspec": {
   "display_name": "R",
   "language": "R",
   "name": "ir"
  },
  "language_info": {
   "codemirror_mode": "r",
   "file_extension": ".r",
   "mimetype": "text/x-r-source",
   "name": "R",
   "pygments_lexer": "r",
   "version": "3.6.1"
  }
 },
 "nbformat": 4,
 "nbformat_minor": 5
}
