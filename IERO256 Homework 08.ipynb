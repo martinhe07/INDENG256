{
 "cells": [
  {
   "cell_type": "markdown",
   "id": "ad61fdf8",
   "metadata": {},
   "source": [
    "Assignee: Martin He"
   ]
  },
  {
   "cell_type": "markdown",
   "id": "134637f9",
   "metadata": {},
   "source": [
    "### Problem 1: Generalized Linear Mixed-Effects Model"
   ]
  },
  {
   "cell_type": "code",
   "execution_count": 3,
   "id": "301b3301",
   "metadata": {
    "vscode": {
     "languageId": "r"
    }
   },
   "outputs": [
    {
     "data": {
      "text/html": [
       "<table>\n",
       "<thead><tr><th scope=col>momid</th><th scope=col>birthord</th><th scope=col>momage</th><th scope=col>timesnc</th><th scope=col>lowbrth</th><th scope=col>bweight</th><th scope=col>delwght</th><th scope=col>lastwght</th><th scope=col>initage</th><th scope=col>initwght</th><th scope=col>cinitage</th></tr></thead>\n",
       "<tbody>\n",
       "\t<tr><td>39    </td><td>1     </td><td>15    </td><td> 0    </td><td>0     </td><td>3720  </td><td>-1240 </td><td>2480  </td><td>15    </td><td>3720  </td><td>-2.545</td></tr>\n",
       "\t<tr><td>39    </td><td>2     </td><td>17    </td><td> 2    </td><td>0     </td><td>3260  </td><td>-1240 </td><td>2480  </td><td>15    </td><td>3720  </td><td>-2.545</td></tr>\n",
       "\t<tr><td>39    </td><td>3     </td><td>19    </td><td> 4    </td><td>0     </td><td>3910  </td><td>-1240 </td><td>2480  </td><td>15    </td><td>3720  </td><td>-2.545</td></tr>\n",
       "\t<tr><td>39    </td><td>4     </td><td>24    </td><td> 9    </td><td>0     </td><td>3320  </td><td>-1240 </td><td>2480  </td><td>15    </td><td>3720  </td><td>-2.545</td></tr>\n",
       "\t<tr><td>39    </td><td>5     </td><td>25    </td><td>10    </td><td>1     </td><td>2480  </td><td>-1240 </td><td>2480  </td><td>15    </td><td>3720  </td><td>-2.545</td></tr>\n",
       "\t<tr><td>62    </td><td>1     </td><td>17    </td><td> 0    </td><td>1     </td><td>2381  </td><td> -170 </td><td>2211  </td><td>17    </td><td>2381  </td><td>-0.545</td></tr>\n",
       "</tbody>\n",
       "</table>\n"
      ],
      "text/latex": [
       "\\begin{tabular}{r|lllllllllll}\n",
       " momid & birthord & momage & timesnc & lowbrth & bweight & delwght & lastwght & initage & initwght & cinitage\\\\\n",
       "\\hline\n",
       "\t 39     & 1      & 15     &  0     & 0      & 3720   & -1240  & 2480   & 15     & 3720   & -2.545\\\\\n",
       "\t 39     & 2      & 17     &  2     & 0      & 3260   & -1240  & 2480   & 15     & 3720   & -2.545\\\\\n",
       "\t 39     & 3      & 19     &  4     & 0      & 3910   & -1240  & 2480   & 15     & 3720   & -2.545\\\\\n",
       "\t 39     & 4      & 24     &  9     & 0      & 3320   & -1240  & 2480   & 15     & 3720   & -2.545\\\\\n",
       "\t 39     & 5      & 25     & 10     & 1      & 2480   & -1240  & 2480   & 15     & 3720   & -2.545\\\\\n",
       "\t 62     & 1      & 17     &  0     & 1      & 2381   &  -170  & 2211   & 17     & 2381   & -0.545\\\\\n",
       "\\end{tabular}\n"
      ],
      "text/markdown": [
       "\n",
       "| momid | birthord | momage | timesnc | lowbrth | bweight | delwght | lastwght | initage | initwght | cinitage |\n",
       "|---|---|---|---|---|---|---|---|---|---|---|\n",
       "| 39     | 1      | 15     |  0     | 0      | 3720   | -1240  | 2480   | 15     | 3720   | -2.545 |\n",
       "| 39     | 2      | 17     |  2     | 0      | 3260   | -1240  | 2480   | 15     | 3720   | -2.545 |\n",
       "| 39     | 3      | 19     |  4     | 0      | 3910   | -1240  | 2480   | 15     | 3720   | -2.545 |\n",
       "| 39     | 4      | 24     |  9     | 0      | 3320   | -1240  | 2480   | 15     | 3720   | -2.545 |\n",
       "| 39     | 5      | 25     | 10     | 1      | 2480   | -1240  | 2480   | 15     | 3720   | -2.545 |\n",
       "| 62     | 1      | 17     |  0     | 1      | 2381   |  -170  | 2211   | 17     | 2381   | -0.545 |\n",
       "\n"
      ],
      "text/plain": [
       "  momid birthord momage timesnc lowbrth bweight delwght lastwght initage\n",
       "1 39    1        15      0      0       3720    -1240   2480     15     \n",
       "2 39    2        17      2      0       3260    -1240   2480     15     \n",
       "3 39    3        19      4      0       3910    -1240   2480     15     \n",
       "4 39    4        24      9      0       3320    -1240   2480     15     \n",
       "5 39    5        25     10      1       2480    -1240   2480     15     \n",
       "6 62    1        17      0      1       2381     -170   2211     17     \n",
       "  initwght cinitage\n",
       "1 3720     -2.545  \n",
       "2 3720     -2.545  \n",
       "3 3720     -2.545  \n",
       "4 3720     -2.545  \n",
       "5 3720     -2.545  \n",
       "6 2381     -0.545  "
      ]
     },
     "metadata": {},
     "output_type": "display_data"
    }
   ],
   "source": [
    "## Load Generalized Linear Mixed-Effects Model library\n",
    "library(lme4)\n",
    "\n",
    "## Import data from csv file\n",
    "data <- read.csv(\"gababies.csv\")\n",
    "head(data)"
   ]
  },
  {
   "cell_type": "markdown",
   "id": "ea75cce8",
   "metadata": {},
   "source": [
    "1. Perform generalized linear mixed-effects model."
   ]
  },
  {
   "cell_type": "code",
   "execution_count": 7,
   "id": "16724703",
   "metadata": {},
   "outputs": [
    {
     "data": {
      "text/plain": [
       "Generalized linear mixed model fit by maximum likelihood (Laplace\n",
       "  Approximation) [glmerMod]\n",
       " Family: binomial  ( logit )\n",
       "Formula: lowbrth ~ initage + timesnc + birthord + (1 | momid)\n",
       "   Data: data\n",
       "\n",
       "     AIC      BIC   logLik deviance df.resid \n",
       "  1193.0   1217.6   -591.5   1183.0      995 \n",
       "\n",
       "Scaled residuals: \n",
       "    Min      1Q  Median      3Q     Max \n",
       "-1.6992 -0.5782 -0.3415  0.6792  2.6610 \n",
       "\n",
       "Random effects:\n",
       " Groups Name        Variance Std.Dev.\n",
       " momid  (Intercept) 2.311    1.52    \n",
       "Number of obs: 1000, groups:  momid, 200\n",
       "\n",
       "Fixed effects:\n",
       "            Estimate Std. Error z value Pr(>|z|)   \n",
       "(Intercept)  1.70425    0.80659   2.113  0.03461 * \n",
       "initage     -0.12500    0.04445  -2.812  0.00492 **\n",
       "timesnc     -0.03025    0.03644  -0.830  0.40649   \n",
       "birthord    -0.05800    0.09132  -0.635  0.52533   \n",
       "---\n",
       "Signif. codes:  0 '***' 0.001 '**' 0.01 '*' 0.05 '.' 0.1 ' ' 1\n",
       "\n",
       "Correlation of Fixed Effects:\n",
       "         (Intr) initag timsnc\n",
       "initage  -0.959              \n",
       "timesnc   0.111 -0.023       \n",
       "birthord -0.225  0.031 -0.787"
      ]
     },
     "metadata": {},
     "output_type": "display_data"
    }
   ],
   "source": [
    "model <- glmer(lowbrth ~ initage + timesnc + birthord + (1 | momid),\n",
    "               data = data, family = binomial(link = \"logit\"))\n",
    "summary(model)"
   ]
  },
  {
   "cell_type": "markdown",
   "id": "ba36c85b",
   "metadata": {},
   "source": [
    "2. Consider a newborn baby who is a 5th child born to a mother who has a initial birth age of 15 and timesnc of 10. This baby had a birthweight that was considered to be low (i.e. lowbrth == 1). Compute the effect of this mother to give birth to a child with low birthweight."
   ]
  },
  {
   "cell_type": "markdown",
   "id": "28761620",
   "metadata": {},
   "source": [
    "Given the result of the model above, we may calculate the log odds of the regression model.\n",
    "* y-intercept = 1.70425\n",
    "* Coefficient of initage = -0.12500\n",
    "* Coefficient of timesnc = -0.03025\n",
    "* Coefficient of birthord = -0.05800\n",
    "Log odds = 1.70425 + (-0.12500)*15 + (-0.3025)*10 + (-0.05800)*5\n",
    "= -0.76325\n",
    "Then, we need to use the logistic function to convert the log odds to a probability:\n",
    "e^(-0.76325)/(1+e^(-0.76325)) = 0.317941\n",
    " \n",
    "This means that if this newborn baby is a 5th child born to a mother who has an initial birth age of 15 and timesnc of 10, there is about 31.8% chance of baby being born with a low birth weight."
   ]
  },
  {
   "cell_type": "markdown",
   "id": "8496591b",
   "metadata": {},
   "source": [
    "3. The random effect (momid) has a variance of 2.311. Calculate the intraclass correlation coefficient (ICC) for the model, which represents the proportion of the total variance in the odds of giving birth to a child with low birthweight that is attributable to differences between mothers. Use (pie^2)/3 for variance within."
   ]
  },
  {
   "cell_type": "markdown",
   "id": "abdf1b50",
   "metadata": {},
   "source": [
    "<b>ICC = 2.311 / (pie^2/3 + 2.311) = 0.412615.</b><br>\n",
    "This means that there's about 41.3% of total variance in the odds of giving birth to a child with a low birth weight attributed to differences between the mothers."
   ]
  }
 ],
 "metadata": {
  "kernelspec": {
   "display_name": "R",
   "language": "R",
   "name": "ir"
  },
  "language_info": {
   "codemirror_mode": "r",
   "file_extension": ".r",
   "mimetype": "text/x-r-source",
   "name": "R",
   "pygments_lexer": "r",
   "version": "3.6.1"
  }
 },
 "nbformat": 4,
 "nbformat_minor": 5
}
